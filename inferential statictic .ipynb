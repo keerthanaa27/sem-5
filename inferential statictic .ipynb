{
 "cells": [
  {
   "cell_type": "code",
   "execution_count": 1,
   "id": "60b23458",
   "metadata": {},
   "outputs": [],
   "source": [
    "import numpy as np"
   ]
  },
  {
   "cell_type": "markdown",
   "id": "1a6b9c65",
   "metadata": {},
   "source": [
    "# generate sample data:height of 30 student (in inches)"
   ]
  },
  {
   "cell_type": "code",
   "execution_count": 2,
   "id": "f236494c",
   "metadata": {},
   "outputs": [],
   "source": [
    "np.random.seed()\n",
    "heights=np.random.normal(loc=65,scale=3,size=30)"
   ]
  },
  {
   "cell_type": "code",
   "execution_count": 3,
   "id": "758fdcb2",
   "metadata": {},
   "outputs": [
    {
     "data": {
      "text/plain": [
       "array([62.46417503, 65.98197509, 63.53999814, 66.67589536, 63.54309628,\n",
       "       60.81690337, 65.84318475, 65.23605852, 58.85219765, 64.49084804,\n",
       "       60.37164125, 63.97309435, 61.53369393, 62.79006539, 59.39459546,\n",
       "       64.50668952, 64.84025071, 64.98440276, 58.6877287 , 68.00914736,\n",
       "       62.29859639, 64.25976608, 63.24351336, 60.55908498, 60.27048247,\n",
       "       62.50101605, 66.63307232, 70.94971266, 71.33152841, 65.57106055])"
      ]
     },
     "execution_count": 3,
     "metadata": {},
     "output_type": "execute_result"
    }
   ],
   "source": [
    "heights"
   ]
  },
  {
   "cell_type": "markdown",
   "id": "2b59c7b4",
   "metadata": {},
   "source": [
    "# point estimations:calculate the sample mean"
   ]
  },
  {
   "cell_type": "code",
   "execution_count": 4,
   "id": "d5c06b77",
   "metadata": {},
   "outputs": [
    {
     "name": "stdout",
     "output_type": "stream",
     "text": [
      "Sample Mean(point Estimation): 63.80511583078053\n"
     ]
    }
   ],
   "source": [
    "sample_mean=np.mean(heights)\n",
    "print(\"Sample Mean(point Estimation):\",sample_mean)"
   ]
  },
  {
   "cell_type": "code",
   "execution_count": 6,
   "id": "ce1e5b5d",
   "metadata": {},
   "outputs": [],
   "source": [
    "import numpy as np\n",
    "import scipy.stats as stats"
   ]
  },
  {
   "cell_type": "markdown",
   "id": "59a8913b",
   "metadata": {},
   "source": [
    "# generate sample data:height of student (in inches)"
   ]
  },
  {
   "cell_type": "code",
   "execution_count": 7,
   "id": "f1b48529",
   "metadata": {},
   "outputs": [],
   "source": [
    "np.random.seed()\n",
    "heights=np.random.normal(loc=65,scale=3,size=30)"
   ]
  },
  {
   "cell_type": "code",
   "execution_count": 8,
   "id": "64fac25b",
   "metadata": {},
   "outputs": [],
   "source": [
    "sample_mean=np.mean(heights)\n",
    "sample_std=np.std(heights,ddof=1)"
   ]
  },
  {
   "cell_type": "markdown",
   "id": "0bf4a055",
   "metadata": {},
   "source": [
    "# set desires confidence level"
   ]
  },
  {
   "cell_type": "code",
   "execution_count": 9,
   "id": "ce53c148",
   "metadata": {},
   "outputs": [],
   "source": [
    "confidence_level=0.95"
   ]
  },
  {
   "cell_type": "markdown",
   "id": "d9d5da8c",
   "metadata": {},
   "source": [
    "# calculate the margin of error"
   ]
  },
  {
   "cell_type": "code",
   "execution_count": 10,
   "id": "fd69c503",
   "metadata": {},
   "outputs": [],
   "source": [
    "margin_of_error=stats.t.ppf((1+confidence_level)/2,len(heights)-1)*(sample_std/np.sqrt(len(heights)))"
   ]
  },
  {
   "cell_type": "markdown",
   "id": "531f995b",
   "metadata": {},
   "source": [
    "# calculate the confidence interval"
   ]
  },
  {
   "cell_type": "code",
   "execution_count": 21,
   "id": "ec52b131",
   "metadata": {},
   "outputs": [],
   "source": [
    "lower_bound=sample_mean-margin_of_error\n",
    "upper_bound=sample_mean-margin_of_error"
   ]
  },
  {
   "cell_type": "markdown",
   "id": "1baad452",
   "metadata": {},
   "source": [
    "# print the coinfidence interval"
   ]
  },
  {
   "cell_type": "code",
   "execution_count": 22,
   "id": "8b6eef5f",
   "metadata": {},
   "outputs": [
    {
     "name": "stdout",
     "output_type": "stream",
     "text": [
      "Confidence Interval(95.0%):[63.450309339790294,63.450309339790294]\n"
     ]
    }
   ],
   "source": [
    "print(f\"Confidence Interval({confidence_level*100}%):[{lower_bound},{upper_bound}]\")"
   ]
  },
  {
   "cell_type": "markdown",
   "id": "bd9fda6a",
   "metadata": {},
   "source": [
    "# generate sample data for two groups"
   ]
  },
  {
   "cell_type": "code",
   "execution_count": 23,
   "id": "55941315",
   "metadata": {},
   "outputs": [],
   "source": [
    "np.random.seed(42)\n",
    "group1_scores=np.random.normal(loc=70,scale=5,size=30)\n",
    "group2_scores=np.random.normal(loc=70,scale=5,size=30)"
   ]
  },
  {
   "cell_type": "markdown",
   "id": "7b818a3b",
   "metadata": {},
   "source": [
    "# performances independent t-test"
   ]
  },
  {
   "cell_type": "code",
   "execution_count": 24,
   "id": "ee29f1bb",
   "metadata": {},
   "outputs": [],
   "source": [
    "t_statistic,p_value=stats.ttest_ind(group1_scores,group2_scores)"
   ]
  },
  {
   "cell_type": "code",
   "execution_count": 25,
   "id": "796dcb85",
   "metadata": {},
   "outputs": [],
   "source": [
    "alpha=0.05"
   ]
  },
  {
   "cell_type": "code",
   "execution_count": 26,
   "id": "dc6f69e3",
   "metadata": {},
   "outputs": [
    {
     "name": "stdout",
     "output_type": "stream",
     "text": [
      "T-test Results:\n",
      "T-statistic: -0.28331706947295365\n",
      "p-value: 0.7779426085718899\n"
     ]
    }
   ],
   "source": [
    "print(\"T-test Results:\")\n",
    "print(\"T-statistic:\",t_statistic)\n",
    "print(\"p-value:\",p_value)"
   ]
  },
  {
   "cell_type": "markdown",
   "id": "d83ef38e",
   "metadata": {},
   "source": [
    "# cheack if the p_values is less than alpha determine significance"
   ]
  },
  {
   "cell_type": "code",
   "execution_count": 31,
   "id": "f431628b",
   "metadata": {},
   "outputs": [
    {
     "name": "stdout",
     "output_type": "stream",
     "text": [
      "fail to reject the null hypothesis .there is no significance difference between the means of the two groups\n"
     ]
    }
   ],
   "source": [
    "if p_value<alpha:\n",
    "    print(\"Reject the null hypothesis.there is a significant difference between the mean of the 2 groups\")\n",
    "else:\n",
    "        print(\"fail to reject the null hypothesis .there is no significance difference between the means of the two groups\")"
   ]
  },
  {
   "cell_type": "markdown",
   "id": "34eb06e0",
   "metadata": {},
   "source": [
    "# perform two-tailed t-test"
   ]
  },
  {
   "cell_type": "code",
   "execution_count": 52,
   "id": "0487c13d",
   "metadata": {},
   "outputs": [],
   "source": [
    "t_statistic_2tail,p_value_2tail=stats.ttest_ind(group1_scores, group2_scores)"
   ]
  },
  {
   "cell_type": "markdown",
   "id": "6f1abce0",
   "metadata": {},
   "source": [
    "# perform one-tailed t-test(right to left)"
   ]
  },
  {
   "cell_type": "code",
   "execution_count": 53,
   "id": "de006de7",
   "metadata": {},
   "outputs": [],
   "source": [
    "t_statistic_1tail_right,p_value_2tail_right = stats.ttest_ind(group1_scores, group2_scores,alternative='greater')"
   ]
  },
  {
   "cell_type": "markdown",
   "id": "8fee76a3",
   "metadata": {},
   "source": [
    "# perform one-tailed t-test (left -right)"
   ]
  },
  {
   "cell_type": "code",
   "execution_count": 54,
   "id": "57f46bdb",
   "metadata": {},
   "outputs": [],
   "source": [
    "t_statistic_1tail_left,p_value_2tail_left = stats.ttest_ind(group1_scores, group2_scores,alternative='greater')"
   ]
  },
  {
   "cell_type": "markdown",
   "id": "712a18a7",
   "metadata": {},
   "source": [
    "# print onetailed (left-tailed)test result"
   ]
  },
  {
   "cell_type": "code",
   "execution_count": 55,
   "id": "73362bba",
   "metadata": {},
   "outputs": [
    {
     "name": "stdout",
     "output_type": "stream",
     "text": [
      "two-tailed Test\n",
      "T-statistic: -0.28331706947295365\n",
      "p-value: 0.7779426085718899\n"
     ]
    }
   ],
   "source": [
    "print(\"two-tailed Test\")\n",
    "print(\"T-statistic:\",t_statistic_2tail)\n",
    "print(\"p-value:\",p_value_2tail)"
   ]
  },
  {
   "cell_type": "code",
   "execution_count": 59,
   "id": "d7f8a2ed",
   "metadata": {},
   "outputs": [
    {
     "name": "stdout",
     "output_type": "stream",
     "text": [
      "\n",
      "one-tailed Test(left-tailed):\n"
     ]
    },
    {
     "ename": "NameError",
     "evalue": "name 't_statistic_2trial_left' is not defined",
     "output_type": "error",
     "traceback": [
      "\u001b[1;31m---------------------------------------------------------------------------\u001b[0m",
      "\u001b[1;31mNameError\u001b[0m                                 Traceback (most recent call last)",
      "Cell \u001b[1;32mIn[59], line 2\u001b[0m\n\u001b[0;32m      1\u001b[0m \u001b[38;5;28mprint\u001b[39m(\u001b[38;5;124m\"\u001b[39m\u001b[38;5;130;01m\\n\u001b[39;00m\u001b[38;5;124mone-tailed Test(left-tailed):\u001b[39m\u001b[38;5;124m\"\u001b[39m)\n\u001b[1;32m----> 2\u001b[0m \u001b[38;5;28mprint\u001b[39m(\u001b[38;5;124m\"\u001b[39m\u001b[38;5;124mT-statistic:\u001b[39m\u001b[38;5;124m\"\u001b[39m,t_statistic_2trial_left)\n\u001b[0;32m      3\u001b[0m \u001b[38;5;28mprint\u001b[39m(\u001b[38;5;124m\"\u001b[39m\u001b[38;5;124mp-value:\u001b[39m\u001b[38;5;124m\"\u001b[39m,p_value_1tail_left)\n",
      "\u001b[1;31mNameError\u001b[0m: name 't_statistic_2trial_left' is not defined"
     ]
    }
   ],
   "source": [
    "print(\"\\none-tailed Test(left-tailed):\")\n",
    "print(\"T-statistic:\",t_statistic_2trial_left)\n",
    "print(\"p-value:\",p_value_1tail_left)"
   ]
  },
  {
   "cell_type": "code",
   "execution_count": null,
   "id": "6fe016ea",
   "metadata": {},
   "outputs": [],
   "source": []
  }
 ],
 "metadata": {
  "kernelspec": {
   "display_name": "Python 3 (ipykernel)",
   "language": "python",
   "name": "python3"
  },
  "language_info": {
   "codemirror_mode": {
    "name": "ipython",
    "version": 3
   },
   "file_extension": ".py",
   "mimetype": "text/x-python",
   "name": "python",
   "nbconvert_exporter": "python",
   "pygments_lexer": "ipython3",
   "version": "3.11.5"
  }
 },
 "nbformat": 4,
 "nbformat_minor": 5
}
