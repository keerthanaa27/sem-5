{
 "cells": [
  {
   "cell_type": "code",
   "execution_count": 1,
   "id": "da62f2ea",
   "metadata": {},
   "outputs": [],
   "source": [
    "import numpy as np"
   ]
  },
  {
   "cell_type": "markdown",
   "id": "f73355ee",
   "metadata": {},
   "source": [
    "# generate sample data:height of 30 student (in inches)"
   ]
  },
  {
   "cell_type": "code",
   "execution_count": 2,
   "id": "ae22ae07",
   "metadata": {},
   "outputs": [],
   "source": [
    "np.random.seed()\n",
    "heights=np.random.normal(loc=65,scale=3,size=30)"
   ]
  },
  {
   "cell_type": "code",
   "execution_count": 3,
   "id": "f71a7669",
   "metadata": {},
   "outputs": [
    {
     "data": {
      "text/plain": [
       "array([62.46417503, 65.98197509, 63.53999814, 66.67589536, 63.54309628,\n",
       "       60.81690337, 65.84318475, 65.23605852, 58.85219765, 64.49084804,\n",
       "       60.37164125, 63.97309435, 61.53369393, 62.79006539, 59.39459546,\n",
       "       64.50668952, 64.84025071, 64.98440276, 58.6877287 , 68.00914736,\n",
       "       62.29859639, 64.25976608, 63.24351336, 60.55908498, 60.27048247,\n",
       "       62.50101605, 66.63307232, 70.94971266, 71.33152841, 65.57106055])"
      ]
     },
     "execution_count": 3,
     "metadata": {},
     "output_type": "execute_result"
    }
   ],
   "source": [
    "heights"
   ]
  },
  {
   "cell_type": "markdown",
   "id": "6fbf3746",
   "metadata": {},
   "source": [
    "# point estimations:calculate the sample mean"
   ]
  },
  {
   "cell_type": "code",
   "execution_count": 4,
   "id": "cf836596",
   "metadata": {},
   "outputs": [
    {
     "name": "stdout",
     "output_type": "stream",
     "text": [
      "Sample Mean(point Estimation): 63.80511583078053\n"
     ]
    }
   ],
   "source": [
    "sample_mean=np.mean(heights)\n",
    "print(\"Sample Mean(point Estimation):\",sample_mean)"
   ]
  },
  {
   "cell_type": "code",
   "execution_count": 6,
   "id": "8b90315f",
   "metadata": {},
   "outputs": [],
   "source": [
    "import numpy as np\n",
    "import scipy.stats as stats"
   ]
  },
  {
   "cell_type": "markdown",
   "id": "228c640f",
   "metadata": {},
   "source": [
    "# generate sample data:height of student (in inches)"
   ]
  },
  {
   "cell_type": "code",
   "execution_count": 7,
   "id": "ec788456",
   "metadata": {},
   "outputs": [],
   "source": [
    "np.random.seed()\n",
    "heights=np.random.normal(loc=65,scale=3,size=30)"
   ]
  },
  {
   "cell_type": "code",
   "execution_count": 8,
   "id": "6e585be6",
   "metadata": {},
   "outputs": [],
   "source": [
    "sample_mean=np.mean(heights)\n",
    "sample_std=np.std(heights,ddof=1)"
   ]
  },
  {
   "cell_type": "markdown",
   "id": "6680eead",
   "metadata": {},
   "source": [
    "# set desires confidence level"
   ]
  },
  {
   "cell_type": "code",
   "execution_count": 9,
   "id": "9f38703c",
   "metadata": {},
   "outputs": [],
   "source": [
    "confidence_level=0.95"
   ]
  },
  {
   "cell_type": "markdown",
   "id": "704d1156",
   "metadata": {},
   "source": [
    "# calculate the margin of error"
   ]
  },
  {
   "cell_type": "code",
   "execution_count": 10,
   "id": "edce7033",
   "metadata": {},
   "outputs": [],
   "source": [
    "margin_of_error=stats.t.ppf((1+confidence_level)/2,len(heights)-1)*(sample_std/np.sqrt(len(heights)))"
   ]
  },
  {
   "cell_type": "markdown",
   "id": "8deda61d",
   "metadata": {},
   "source": [
    "# calculate the confidence interval"
   ]
  },
  {
   "cell_type": "code",
   "execution_count": 21,
   "id": "61027239",
   "metadata": {},
   "outputs": [],
   "source": [
    "lower_bound=sample_mean-margin_of_error\n",
    "upper_bound=sample_mean-margin_of_error"
   ]
  },
  {
   "cell_type": "markdown",
   "id": "66a8bb63",
   "metadata": {},
   "source": [
    "# print the coinfidence interval"
   ]
  },
  {
   "cell_type": "code",
   "execution_count": 22,
   "id": "82f043af",
   "metadata": {},
   "outputs": [
    {
     "name": "stdout",
     "output_type": "stream",
     "text": [
      "Confidence Interval(95.0%):[63.450309339790294,63.450309339790294]\n"
     ]
    }
   ],
   "source": [
    "print(f\"Confidence Interval({confidence_level*100}%):[{lower_bound},{upper_bound}]\")"
   ]
  },
  {
   "cell_type": "markdown",
   "id": "51baa4c5",
   "metadata": {},
   "source": [
    "# generate sample data for two groups"
   ]
  },
  {
   "cell_type": "code",
   "execution_count": 23,
   "id": "93e356cf",
   "metadata": {},
   "outputs": [],
   "source": [
    "np.random.seed(42)\n",
    "group1_scores=np.random.normal(loc=70,scale=5,size=30)\n",
    "group2_scores=np.random.normal(loc=70,scale=5,size=30)"
   ]
  },
  {
   "cell_type": "markdown",
   "id": "385060fb",
   "metadata": {},
   "source": [
    "# performances independent t-test"
   ]
  },
  {
   "cell_type": "code",
   "execution_count": 24,
   "id": "e5c85057",
   "metadata": {},
   "outputs": [],
   "source": [
    "t_statistic,p_value=stats.ttest_ind(group1_scores,group2_scores)"
   ]
  },
  {
   "cell_type": "code",
   "execution_count": 25,
   "id": "16bbeca6",
   "metadata": {},
   "outputs": [],
   "source": [
    "alpha=0.05"
   ]
  },
  {
   "cell_type": "code",
   "execution_count": 26,
   "id": "464dac9a",
   "metadata": {},
   "outputs": [
    {
     "name": "stdout",
     "output_type": "stream",
     "text": [
      "T-test Results:\n",
      "T-statistic: -0.28331706947295365\n",
      "p-value: 0.7779426085718899\n"
     ]
    }
   ],
   "source": [
    "print(\"T-test Results:\")\n",
    "print(\"T-statistic:\",t_statistic)\n",
    "print(\"p-value:\",p_value)"
   ]
  },
  {
   "cell_type": "markdown",
   "id": "3c4e68a8",
   "metadata": {},
   "source": [
    "# cheack if the p_values is less than alpha determine significance"
   ]
  },
  {
   "cell_type": "code",
   "execution_count": 31,
   "id": "504fccd3",
   "metadata": {},
   "outputs": [
    {
     "name": "stdout",
     "output_type": "stream",
     "text": [
      "fail to reject the null hypothesis .there is no significance difference between the means of the two groups\n"
     ]
    }
   ],
   "source": [
    "if p_value<alpha:\n",
    "    print(\"Reject the null hypothesis.there is a significant difference between the mean of the 2 groups\")\n",
    "else:\n",
    "        print(\"fail to reject the null hypothesis .there is no significance difference between the means of the two groups\")"
   ]
  },
  {
   "cell_type": "markdown",
   "id": "6c40a3c6",
   "metadata": {},
   "source": [
    "# perform two-tailed t-test"
   ]
  },
  {
   "cell_type": "code",
   "execution_count": 65,
   "id": "1dda679b",
   "metadata": {},
   "outputs": [],
   "source": [
    "t_statistic_2tail,p_value_2tail=stats.ttest_ind(group1_scores, group2_scores)"
   ]
  },
  {
   "cell_type": "markdown",
   "id": "3cf73716",
   "metadata": {},
   "source": [
    "# perform one-tailed t-test(right to left)"
   ]
  },
  {
   "cell_type": "code",
   "execution_count": 66,
   "id": "05499344",
   "metadata": {},
   "outputs": [],
   "source": [
    "t_statistic_1tail_right,p_value_2tail_right = stats.ttest_ind(group1_scores, group2_scores,alternative='greater')\n",
    "\n"
   ]
  },
  {
   "cell_type": "markdown",
   "id": "102a5e02",
   "metadata": {},
   "source": [
    "# perform one-tailed t-test (left -right)"
   ]
  },
  {
   "cell_type": "code",
   "execution_count": 67,
   "id": "72f6b6a2",
   "metadata": {},
   "outputs": [],
   "source": [
    "t_statistic_1tail_left,p_value_1tail_left = stats.ttest_ind(group1_scores, group2_scores,alternative='greater')"
   ]
  },
  {
   "cell_type": "markdown",
   "id": "7ec9dd5d",
   "metadata": {},
   "source": [
    "# print onetailed (left-tailed)test result"
   ]
  },
  {
   "cell_type": "code",
   "execution_count": 68,
   "id": "5df45ff3",
   "metadata": {},
   "outputs": [
    {
     "name": "stdout",
     "output_type": "stream",
     "text": [
      "two-tailed Test\n",
      "T-statistic: -0.28331706947295365\n",
      "p-value: 0.7779426085718899\n"
     ]
    }
   ],
   "source": [
    "print(\"two-tailed Test\")\n",
    "print(\"T-statistic:\",t_statistic_2tail)\n",
    "print(\"p-value:\",p_value_2tail)"
   ]
  },
  {
   "cell_type": "code",
   "execution_count": 69,
   "id": "237d78a2",
   "metadata": {},
   "outputs": [
    {
     "name": "stdout",
     "output_type": "stream",
     "text": [
      "\n",
      "one-tailed Test(left-tailed):\n",
      "T-statistic: -0.28331706947295365\n",
      "p-value: 0.611028695714055\n"
     ]
    }
   ],
   "source": [
    "print(\"\\none-tailed Test(left-tailed):\")\n",
    "print(\"T-statistic:\",t_statistic_1tail_left)\n",
    "print(\"p-value:\",p_value_1tail_left)"
   ]
  },
  {
   "cell_type": "code",
   "execution_count": null,
   "id": "cfb8ab94",
   "metadata": {},
   "outputs": [],
   "source": []
  },
  {
   "cell_type": "code",
   "execution_count": null,
   "id": "f42464ea",
   "metadata": {},
   "outputs": [],
   "source": []
  }
 ],
 "metadata": {
  "kernelspec": {
   "display_name": "Python 3 (ipykernel)",
   "language": "python",
   "name": "python3"
  },
  "language_info": {
   "codemirror_mode": {
    "name": "ipython",
    "version": 3
   },
   "file_extension": ".py",
   "mimetype": "text/x-python",
   "name": "python",
   "nbconvert_exporter": "python",
   "pygments_lexer": "ipython3",
   "version": "3.11.5"
  }
 },
 "nbformat": 4,
 "nbformat_minor": 5
}
