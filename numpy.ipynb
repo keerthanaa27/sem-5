{
 "cells": [
  {
   "cell_type": "code",
   "execution_count": 1,
   "id": "a549c6cc",
   "metadata": {},
   "outputs": [],
   "source": [
    "import numpy as np"
   ]
  },
  {
   "cell_type": "code",
   "execution_count": 2,
   "id": "55b50976",
   "metadata": {},
   "outputs": [],
   "source": [
    "ar1=np.array(27)"
   ]
  },
  {
   "cell_type": "code",
   "execution_count": 3,
   "id": "37104c5f",
   "metadata": {},
   "outputs": [
    {
     "data": {
      "text/plain": [
       "array(27)"
      ]
     },
     "execution_count": 3,
     "metadata": {},
     "output_type": "execute_result"
    }
   ],
   "source": [
    "ar1"
   ]
  },
  {
   "cell_type": "code",
   "execution_count": 4,
   "id": "f52288fc",
   "metadata": {},
   "outputs": [
    {
     "data": {
      "text/plain": [
       "numpy.ndarray"
      ]
     },
     "execution_count": 4,
     "metadata": {},
     "output_type": "execute_result"
    }
   ],
   "source": [
    "type(ar1)"
   ]
  },
  {
   "cell_type": "code",
   "execution_count": 9,
   "id": "ff723b7e",
   "metadata": {},
   "outputs": [],
   "source": [
    "ar2=np.array([[2,3,4],[1,0,1]])"
   ]
  },
  {
   "cell_type": "code",
   "execution_count": 10,
   "id": "b4153f50",
   "metadata": {},
   "outputs": [
    {
     "data": {
      "text/plain": [
       "array([[2, 3, 4],\n",
       "       [1, 0, 1]])"
      ]
     },
     "execution_count": 10,
     "metadata": {},
     "output_type": "execute_result"
    }
   ],
   "source": [
    "ar2"
   ]
  },
  {
   "cell_type": "markdown",
   "id": "e3df3ba8",
   "metadata": {},
   "source": [
    "array types;\n",
    "1,zero array\n",
    "2,ones array \n",
    "3,empty array \n",
    "4,array for range"
   ]
  },
  {
   "cell_type": "code",
   "execution_count": 15,
   "id": "fc6e1ca9",
   "metadata": {},
   "outputs": [],
   "source": [
    "zero_array=np.zeros([6,5])"
   ]
  },
  {
   "cell_type": "code",
   "execution_count": 16,
   "id": "27d28940",
   "metadata": {},
   "outputs": [
    {
     "data": {
      "text/plain": [
       "array([[0., 0., 0., 0., 0.],\n",
       "       [0., 0., 0., 0., 0.],\n",
       "       [0., 0., 0., 0., 0.],\n",
       "       [0., 0., 0., 0., 0.],\n",
       "       [0., 0., 0., 0., 0.],\n",
       "       [0., 0., 0., 0., 0.]])"
      ]
     },
     "execution_count": 16,
     "metadata": {},
     "output_type": "execute_result"
    }
   ],
   "source": [
    "zero_array"
   ]
  },
  {
   "cell_type": "code",
   "execution_count": 27,
   "id": "1212b51d",
   "metadata": {},
   "outputs": [],
   "source": [
    "ar3=np.arange(2,9,2)"
   ]
  },
  {
   "cell_type": "code",
   "execution_count": 28,
   "id": "6faa58e8",
   "metadata": {},
   "outputs": [
    {
     "data": {
      "text/plain": [
       "array([2, 4, 6, 8])"
      ]
     },
     "execution_count": 28,
     "metadata": {},
     "output_type": "execute_result"
    }
   ],
   "source": [
    "ar3"
   ]
  },
  {
   "cell_type": "code",
   "execution_count": 30,
   "id": "6f5d57ba",
   "metadata": {},
   "outputs": [],
   "source": [
    "ar5=np.transpose(ar3)"
   ]
  },
  {
   "cell_type": "code",
   "execution_count": 31,
   "id": "14cb5c88",
   "metadata": {},
   "outputs": [
    {
     "data": {
      "text/plain": [
       "array([2, 4, 6, 8])"
      ]
     },
     "execution_count": 31,
     "metadata": {},
     "output_type": "execute_result"
    }
   ],
   "source": [
    "ar5"
   ]
  },
  {
   "cell_type": "code",
   "execution_count": 32,
   "id": "1cbb0067",
   "metadata": {},
   "outputs": [],
   "source": [
    "ar6=np.transpose(ar5)"
   ]
  },
  {
   "cell_type": "code",
   "execution_count": 33,
   "id": "c6c3f69d",
   "metadata": {},
   "outputs": [
    {
     "data": {
      "text/plain": [
       "array([2, 4, 6, 8])"
      ]
     },
     "execution_count": 33,
     "metadata": {},
     "output_type": "execute_result"
    }
   ],
   "source": [
    "ar6"
   ]
  },
  {
   "cell_type": "code",
   "execution_count": 39,
   "id": "786851a8",
   "metadata": {},
   "outputs": [],
   "source": [
    "a1=np.array([1,2])\n",
    "a2=np.array([4,5])"
   ]
  },
  {
   "cell_type": "code",
   "execution_count": 40,
   "id": "0f57449c",
   "metadata": {},
   "outputs": [
    {
     "data": {
      "text/plain": [
       "array([1, 2])"
      ]
     },
     "execution_count": 40,
     "metadata": {},
     "output_type": "execute_result"
    }
   ],
   "source": [
    "a1"
   ]
  },
  {
   "cell_type": "code",
   "execution_count": 43,
   "id": "fc831b4b",
   "metadata": {},
   "outputs": [],
   "source": [
    "concat=np.concatenate((a1,a2))"
   ]
  },
  {
   "cell_type": "code",
   "execution_count": 44,
   "id": "983ba338",
   "metadata": {},
   "outputs": [
    {
     "data": {
      "text/plain": [
       "array([1, 2, 4, 5])"
      ]
     },
     "execution_count": 44,
     "metadata": {},
     "output_type": "execute_result"
    }
   ],
   "source": [
    "concat"
   ]
  },
  {
   "cell_type": "code",
   "execution_count": 46,
   "id": "17454d07",
   "metadata": {},
   "outputs": [],
   "source": [
    "hori=np.hstack((a1,a2))"
   ]
  },
  {
   "cell_type": "code",
   "execution_count": 47,
   "id": "dc028d8f",
   "metadata": {},
   "outputs": [
    {
     "data": {
      "text/plain": [
       "array([1, 2, 4, 5])"
      ]
     },
     "execution_count": 47,
     "metadata": {},
     "output_type": "execute_result"
    }
   ],
   "source": [
    "hori"
   ]
  },
  {
   "cell_type": "code",
   "execution_count": null,
   "id": "4cb93d10",
   "metadata": {},
   "outputs": [],
   "source": []
  }
 ],
 "metadata": {
  "kernelspec": {
   "display_name": "Python 3 (ipykernel)",
   "language": "python",
   "name": "python3"
  },
  "language_info": {
   "codemirror_mode": {
    "name": "ipython",
    "version": 3
   },
   "file_extension": ".py",
   "mimetype": "text/x-python",
   "name": "python",
   "nbconvert_exporter": "python",
   "pygments_lexer": "ipython3",
   "version": "3.11.5"
  }
 },
 "nbformat": 4,
 "nbformat_minor": 5
}
