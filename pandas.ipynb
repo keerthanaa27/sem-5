{
 "cells": [
  {
   "cell_type": "code",
   "execution_count": null,
   "id": "d6d5bdf7",
   "metadata": {},
   "outputs": [],
   "source": [
    "what is pandas?\n",
    "*data manipulation and analysis \n",
    "*data mining library built on python"
   ]
  },
  {
   "cell_type": "raw",
   "id": "bfe62430",
   "metadata": {},
   "source": [
    "#pip install pandas"
   ]
  },
  {
   "cell_type": "code",
   "execution_count": 2,
   "id": "c2c12221",
   "metadata": {},
   "outputs": [],
   "source": [
    "import pandas as pd"
   ]
  },
  {
   "cell_type": "code",
   "execution_count": 3,
   "id": "e115ec8a",
   "metadata": {},
   "outputs": [
    {
     "data": {
      "text/plain": [
       "'2.2.2'"
      ]
     },
     "execution_count": 3,
     "metadata": {},
     "output_type": "execute_result"
    }
   ],
   "source": [
    "pd.__version__"
   ]
  },
  {
   "cell_type": "code",
   "execution_count": null,
   "id": "56438f3d",
   "metadata": {},
   "outputs": [],
   "source": [
    "#pip install --upgrade pandas --user"
   ]
  },
  {
   "cell_type": "code",
   "execution_count": 4,
   "id": "4de163f7",
   "metadata": {},
   "outputs": [],
   "source": [
    "s1=pd.Series([1,2,3,4,'five'],index=['a','b','c','d','e']),"
   ]
  },
  {
   "cell_type": "code",
   "execution_count": 5,
   "id": "8a9df4c1",
   "metadata": {},
   "outputs": [
    {
     "name": "stdout",
     "output_type": "stream",
     "text": [
      "(a       1\n",
      "b       2\n",
      "c       3\n",
      "d       4\n",
      "e    five\n",
      "dtype: object,)\n"
     ]
    }
   ],
   "source": [
    "print(s1)"
   ]
  },
  {
   "cell_type": "code",
   "execution_count": 6,
   "id": "7be3bf73",
   "metadata": {},
   "outputs": [],
   "source": [
    "s2=pd.Series([\"python\",\"R\",\"c++\",\"html\",\"java\"],index=[1,2,3,4,5])"
   ]
  },
  {
   "cell_type": "code",
   "execution_count": 7,
   "id": "3d975998",
   "metadata": {},
   "outputs": [
    {
     "name": "stdout",
     "output_type": "stream",
     "text": [
      "1    python\n",
      "2         R\n",
      "3       c++\n",
      "4      html\n",
      "5      java\n",
      "dtype: object\n"
     ]
    }
   ],
   "source": [
    "print(s2)"
   ]
  },
  {
   "cell_type": "markdown",
   "id": "60bb7be2",
   "metadata": {},
   "source": [
    "# data frame"
   ]
  },
  {
   "cell_type": "markdown",
   "id": "9c477a0f",
   "metadata": {},
   "source": [
    "varible_name=pd.DataFrame(data,column=[column name])"
   ]
  },
  {
   "cell_type": "code",
   "execution_count": 8,
   "id": "e967119c",
   "metadata": {},
   "outputs": [],
   "source": [
    "df1=pd.DataFrame(s2,columns=[\"language\"])"
   ]
  },
  {
   "cell_type": "code",
   "execution_count": 9,
   "id": "e81fba8b",
   "metadata": {},
   "outputs": [
    {
     "data": {
      "text/html": [
       "<div>\n",
       "<style scoped>\n",
       "    .dataframe tbody tr th:only-of-type {\n",
       "        vertical-align: middle;\n",
       "    }\n",
       "\n",
       "    .dataframe tbody tr th {\n",
       "        vertical-align: top;\n",
       "    }\n",
       "\n",
       "    .dataframe thead th {\n",
       "        text-align: right;\n",
       "    }\n",
       "</style>\n",
       "<table border=\"1\" class=\"dataframe\">\n",
       "  <thead>\n",
       "    <tr style=\"text-align: right;\">\n",
       "      <th></th>\n",
       "      <th>language</th>\n",
       "    </tr>\n",
       "  </thead>\n",
       "  <tbody>\n",
       "    <tr>\n",
       "      <th>1</th>\n",
       "      <td>python</td>\n",
       "    </tr>\n",
       "    <tr>\n",
       "      <th>2</th>\n",
       "      <td>R</td>\n",
       "    </tr>\n",
       "    <tr>\n",
       "      <th>3</th>\n",
       "      <td>c++</td>\n",
       "    </tr>\n",
       "    <tr>\n",
       "      <th>4</th>\n",
       "      <td>html</td>\n",
       "    </tr>\n",
       "    <tr>\n",
       "      <th>5</th>\n",
       "      <td>java</td>\n",
       "    </tr>\n",
       "  </tbody>\n",
       "</table>\n",
       "</div>"
      ],
      "text/plain": [
       "  language\n",
       "1   python\n",
       "2        R\n",
       "3      c++\n",
       "4     html\n",
       "5     java"
      ]
     },
     "execution_count": 9,
     "metadata": {},
     "output_type": "execute_result"
    }
   ],
   "source": [
    "df1"
   ]
  },
  {
   "cell_type": "code",
   "execution_count": 11,
   "id": "182e64cc",
   "metadata": {},
   "outputs": [],
   "source": [
    "Fruits={\"seed\":{1:\"orange\",2:\"Apple\",3:\"Watermelon\"},\"seedless\":{1:\"pineapple\",2:\"grapes\",3:\"pappya\"}}"
   ]
  },
  {
   "cell_type": "code",
   "execution_count": 14,
   "id": "39cfb5ea",
   "metadata": {},
   "outputs": [],
   "source": [
    "df2=pd.DataFrame(Fruits,columns=[\"seed\",\"seedless\"])"
   ]
  },
  {
   "cell_type": "code",
   "execution_count": 15,
   "id": "cc475800",
   "metadata": {},
   "outputs": [
    {
     "data": {
      "text/html": [
       "<div>\n",
       "<style scoped>\n",
       "    .dataframe tbody tr th:only-of-type {\n",
       "        vertical-align: middle;\n",
       "    }\n",
       "\n",
       "    .dataframe tbody tr th {\n",
       "        vertical-align: top;\n",
       "    }\n",
       "\n",
       "    .dataframe thead th {\n",
       "        text-align: right;\n",
       "    }\n",
       "</style>\n",
       "<table border=\"1\" class=\"dataframe\">\n",
       "  <thead>\n",
       "    <tr style=\"text-align: right;\">\n",
       "      <th></th>\n",
       "      <th>seed</th>\n",
       "      <th>seedless</th>\n",
       "    </tr>\n",
       "  </thead>\n",
       "  <tbody>\n",
       "    <tr>\n",
       "      <th>1</th>\n",
       "      <td>orange</td>\n",
       "      <td>pineapple</td>\n",
       "    </tr>\n",
       "    <tr>\n",
       "      <th>2</th>\n",
       "      <td>Apple</td>\n",
       "      <td>grapes</td>\n",
       "    </tr>\n",
       "    <tr>\n",
       "      <th>3</th>\n",
       "      <td>Watermelon</td>\n",
       "      <td>pappya</td>\n",
       "    </tr>\n",
       "  </tbody>\n",
       "</table>\n",
       "</div>"
      ],
      "text/plain": [
       "         seed   seedless\n",
       "1      orange  pineapple\n",
       "2       Apple     grapes\n",
       "3  Watermelon     pappya"
      ]
     },
     "execution_count": 15,
     "metadata": {},
     "output_type": "execute_result"
    }
   ],
   "source": [
    "df2"
   ]
  },
  {
   "cell_type": "markdown",
   "id": "5b9b5770",
   "metadata": {},
   "source": [
    "CReate a dataframe for your class,containing \"name\",regno,year of study as columns name for ten students"
   ]
  },
  {
   "cell_type": "code",
   "execution_count": 16,
   "id": "1ba7b9ec",
   "metadata": {},
   "outputs": [],
   "source": [
    "Student={\"name\":{1:\"sana\",2:\"sara\",3:\"yelena\",4:\"hana\",5:\"jeni\"},\"reg no\":{1:\"501\",2:\"502\",3:\"503\",4:\"504\",5:\"505\"},\"year\":{1:\"thirdyear\",2:\"thirdyear\",3:\"thirdyear\",4:\"thirdyear\",5:\"thirdyear\"}}"
   ]
  },
  {
   "cell_type": "code",
   "execution_count": 17,
   "id": "9d695d72",
   "metadata": {},
   "outputs": [],
   "source": [
    "df2=pd.DataFrame(Student,columns=[\"name\",\"reg no\",\"year\"])"
   ]
  },
  {
   "cell_type": "code",
   "execution_count": 18,
   "id": "71f68eaa",
   "metadata": {},
   "outputs": [
    {
     "data": {
      "text/html": [
       "<div>\n",
       "<style scoped>\n",
       "    .dataframe tbody tr th:only-of-type {\n",
       "        vertical-align: middle;\n",
       "    }\n",
       "\n",
       "    .dataframe tbody tr th {\n",
       "        vertical-align: top;\n",
       "    }\n",
       "\n",
       "    .dataframe thead th {\n",
       "        text-align: right;\n",
       "    }\n",
       "</style>\n",
       "<table border=\"1\" class=\"dataframe\">\n",
       "  <thead>\n",
       "    <tr style=\"text-align: right;\">\n",
       "      <th></th>\n",
       "      <th>name</th>\n",
       "      <th>reg no</th>\n",
       "      <th>year</th>\n",
       "    </tr>\n",
       "  </thead>\n",
       "  <tbody>\n",
       "    <tr>\n",
       "      <th>1</th>\n",
       "      <td>sana</td>\n",
       "      <td>501</td>\n",
       "      <td>thirdyear</td>\n",
       "    </tr>\n",
       "    <tr>\n",
       "      <th>2</th>\n",
       "      <td>sara</td>\n",
       "      <td>502</td>\n",
       "      <td>thirdyear</td>\n",
       "    </tr>\n",
       "    <tr>\n",
       "      <th>3</th>\n",
       "      <td>yelena</td>\n",
       "      <td>503</td>\n",
       "      <td>thirdyear</td>\n",
       "    </tr>\n",
       "    <tr>\n",
       "      <th>4</th>\n",
       "      <td>hana</td>\n",
       "      <td>504</td>\n",
       "      <td>thirdyear</td>\n",
       "    </tr>\n",
       "    <tr>\n",
       "      <th>5</th>\n",
       "      <td>jeni</td>\n",
       "      <td>505</td>\n",
       "      <td>thirdyear</td>\n",
       "    </tr>\n",
       "  </tbody>\n",
       "</table>\n",
       "</div>"
      ],
      "text/plain": [
       "     name reg no       year\n",
       "1    sana    501  thirdyear\n",
       "2    sara    502  thirdyear\n",
       "3  yelena    503  thirdyear\n",
       "4    hana    504  thirdyear\n",
       "5    jeni    505  thirdyear"
      ]
     },
     "execution_count": 18,
     "metadata": {},
     "output_type": "execute_result"
    }
   ],
   "source": [
    "df2"
   ]
  },
  {
   "cell_type": "code",
   "execution_count": 20,
   "id": "31a07b15",
   "metadata": {},
   "outputs": [],
   "source": [
    "Student=df2[\"name\"]"
   ]
  },
  {
   "cell_type": "code",
   "execution_count": 21,
   "id": "a1317168",
   "metadata": {},
   "outputs": [
    {
     "data": {
      "text/html": [
       "<div>\n",
       "<style scoped>\n",
       "    .dataframe tbody tr th:only-of-type {\n",
       "        vertical-align: middle;\n",
       "    }\n",
       "\n",
       "    .dataframe tbody tr th {\n",
       "        vertical-align: top;\n",
       "    }\n",
       "\n",
       "    .dataframe thead th {\n",
       "        text-align: right;\n",
       "    }\n",
       "</style>\n",
       "<table border=\"1\" class=\"dataframe\">\n",
       "  <thead>\n",
       "    <tr style=\"text-align: right;\">\n",
       "      <th></th>\n",
       "      <th>reg no</th>\n",
       "      <th>year</th>\n",
       "    </tr>\n",
       "  </thead>\n",
       "  <tbody>\n",
       "    <tr>\n",
       "      <th>1</th>\n",
       "      <td>501</td>\n",
       "      <td>thirdyear</td>\n",
       "    </tr>\n",
       "    <tr>\n",
       "      <th>2</th>\n",
       "      <td>502</td>\n",
       "      <td>thirdyear</td>\n",
       "    </tr>\n",
       "    <tr>\n",
       "      <th>3</th>\n",
       "      <td>503</td>\n",
       "      <td>thirdyear</td>\n",
       "    </tr>\n",
       "    <tr>\n",
       "      <th>4</th>\n",
       "      <td>504</td>\n",
       "      <td>thirdyear</td>\n",
       "    </tr>\n",
       "    <tr>\n",
       "      <th>5</th>\n",
       "      <td>505</td>\n",
       "      <td>thirdyear</td>\n",
       "    </tr>\n",
       "  </tbody>\n",
       "</table>\n",
       "</div>"
      ],
      "text/plain": [
       "  reg no       year\n",
       "1    501  thirdyear\n",
       "2    502  thirdyear\n",
       "3    503  thirdyear\n",
       "4    504  thirdyear\n",
       "5    505  thirdyear"
      ]
     },
     "execution_count": 21,
     "metadata": {},
     "output_type": "execute_result"
    }
   ],
   "source": [
    "df2.drop(\"name\",axis=1)"
   ]
  },
  {
   "cell_type": "code",
   "execution_count": null,
   "id": "c9d75509",
   "metadata": {},
   "outputs": [],
   "source": []
  }
 ],
 "metadata": {
  "kernelspec": {
   "display_name": "Python 3 (ipykernel)",
   "language": "python",
   "name": "python3"
  },
  "language_info": {
   "codemirror_mode": {
    "name": "ipython",
    "version": 3
   },
   "file_extension": ".py",
   "mimetype": "text/x-python",
   "name": "python",
   "nbconvert_exporter": "python",
   "pygments_lexer": "ipython3",
   "version": "3.11.5"
  }
 },
 "nbformat": 4,
 "nbformat_minor": 5
}
